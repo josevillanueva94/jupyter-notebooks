{
 "cells": [
  {
   "cell_type": "code",
   "execution_count": 7,
   "metadata": {},
   "outputs": [],
   "source": [
    "import uuid"
   ]
  },
  {
   "cell_type": "code",
   "execution_count": 1,
   "metadata": {},
   "outputs": [],
   "source": [
    "import boto3\n",
    "\n",
    "dynamo = boto3.resource(\"dynamodb\")"
   ]
  },
  {
   "cell_type": "code",
   "execution_count": 5,
   "metadata": {},
   "outputs": [],
   "source": [
    "people_table = dynamo.Table(\"people\")\n"
   ]
  },
  {
   "cell_type": "code",
   "execution_count": 10,
   "metadata": {},
   "outputs": [],
   "source": [
    "def giveId() -> str:\n",
    "    return str(uuid.uuid4())"
   ]
  },
  {
   "cell_type": "code",
   "execution_count": 12,
   "metadata": {},
   "outputs": [],
   "source": [
    "person1 = dict(id=giveId(), first_name='john', last_name='doe') \n",
    "person1;"
   ]
  },
  {
   "cell_type": "code",
   "execution_count": 16,
   "metadata": {},
   "outputs": [],
   "source": [
    "people_table.put_item(Item=person1);"
   ]
  },
  {
   "cell_type": "code",
   "execution_count": 19,
   "metadata": {},
   "outputs": [],
   "source": [
    "people_table.scan();"
   ]
  },
  {
   "cell_type": "code",
   "execution_count": 33,
   "metadata": {},
   "outputs": [],
   "source": [
    "\"\"\"\n",
    "i = int(input(\"Enter command to add or delete row to table /n Enter 1 for Adding /n Enter 2 Delete a row \"))\n",
    "while i != 0:\n",
    "    if i == 1:\n",
    "        person = dict(id=giveId,first_name=input(\"Enter First Name:\"),last_name(\"Enter Last Name:\"))\n",
    "        people_table.put_item(Item=person)\n",
    "\"\"\";"
   ]
  },
  {
   "cell_type": "code",
   "execution_count": 5,
   "metadata": {},
   "outputs": [
    {
     "name": "stdout",
     "output_type": "stream",
     "text": [
      "{'Items': [{'last_name': 'Wick', 'id': 'a1c841be-d3bc-4199-bdff-aaf6de81270b', 'first_name': 'John'}, {'last_name': 'doe', 'id': '12708ca4-188f-42ec-9d03-98ec64f8b593', 'first_name': 'john'}, {'id': 'sadda', 'first_name': 'juan'}], 'Count': 3, 'ScannedCount': 3, 'ResponseMetadata': {'RequestId': 'HH0345DD2OQ7HQD9QAD7641ASBVV4KQNSO5AEMVJF66Q9ASUAAJG', 'HTTPStatusCode': 200, 'HTTPHeaders': {'server': 'Server', 'date': 'Thu, 30 Aug 2018 01:06:12 GMT', 'content-type': 'application/x-amz-json-1.0', 'content-length': '290', 'connection': 'keep-alive', 'x-amzn-requestid': 'HH0345DD2OQ7HQD9QAD7641ASBVV4KQNSO5AEMVJF66Q9ASUAAJG', 'x-amz-crc32': '383947799'}, 'RetryAttempts': 0}}\n",
      "1\n"
     ]
    }
   ],
   "source": [
    "import uuid\n",
    "import boto3\n",
    "\n",
    "dynamo = boto3.resource(\"dynamodb\")\n",
    "people_table = dynamo.Table(\"people\")\n",
    "def giveId() -> str:\n",
    "    return str(uuid.uuid4())\n",
    "print(people_table.scan())\n",
    "print(1)"
   ]
  },
  {
   "cell_type": "code",
   "execution_count": null,
   "metadata": {},
   "outputs": [],
   "source": []
  }
 ],
 "metadata": {
  "kernelspec": {
   "display_name": "Python 3",
   "language": "python",
   "name": "python3"
  },
  "language_info": {
   "codemirror_mode": {
    "name": "ipython",
    "version": 3
   },
   "file_extension": ".py",
   "mimetype": "text/x-python",
   "name": "python",
   "nbconvert_exporter": "python",
   "pygments_lexer": "ipython3",
   "version": "3.6.6"
  }
 },
 "nbformat": 4,
 "nbformat_minor": 2
}
